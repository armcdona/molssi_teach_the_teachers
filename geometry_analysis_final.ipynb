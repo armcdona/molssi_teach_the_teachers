{
 "cells": [
  {
   "cell_type": "code",
   "execution_count": 1,
   "metadata": {},
   "outputs": [
    {
     "name": "stdout",
     "output_type": "stream",
     "text": [
      "O to H1: 0.969\n",
      "O to H2: 0.969\n"
     ]
    }
   ],
   "source": [
    "import numpy\n",
    "import os\n",
    "\n",
    "def open_xyz(filename):\n",
    "    \"\"\"\n",
    "    Opens and processes a standard format xyz file.  Returns symbols and numpy array\n",
    "    of coordinates.\n",
    "    \"\"\"\n",
    "    xyz_file = numpy.genfromtxt(fname=filename, skip_header=2, dtype='unicode')\n",
    "    symbols = xyz_file[:,0]\n",
    "    coordinates = xyz_file[:,1:]\n",
    "    coordinates = coordinates.astype(numpy.float)\n",
    "    return symbols, coordinates\n",
    "\n",
    "def bond_check(distance, mininum_length=0, maximum_length=1.5):\n",
    "    \"\"\"\n",
    "    The function accepts a single distance (one number) and checks to see if it is between \n",
    "    the specificed minimum (default: 0 angstroms) and maximum values (default: 1.5 angtroms).  \n",
    "    \"\"\"\n",
    "    if distance > mininum_length and distance < maximum_length:\n",
    "        return True\n",
    "    else:\n",
    "        return False\n",
    "    \n",
    "def calculate_distance(atom1_coord, atom2_coord):\n",
    "    \"\"\"\n",
    "    This function takes the coodinates of two atoms and calculates the distances between them.\n",
    "    Inputs: atom1_coord, atom2_coord\n",
    "    Return: distance\n",
    "    \"\"\"\n",
    "    x_distance = atom1_coord[0]-atom2_coord[0]\n",
    "    y_distance = atom1_coord[1]-atom2_coord[1]\n",
    "    z_distance = atom1_coord[2]-atom2_coord[2]\n",
    "    distance = numpy.sqrt(x_distance**2 + y_distance**2 + z_distance**2)\n",
    "    return distance\n",
    "\n",
    "file_location = os.path.join('data', 'water.xyz')\n",
    "symbols, coord = open_xyz(file_location)\n",
    "num_atoms = len(symbols)\n",
    "for num1 in range(0, num_atoms):\n",
    "    for num2 in range(0, num_atoms):\n",
    "        if num1<num2:\n",
    "            bond_length_12 = calculate_distance(coord[num1], coord[num2])\n",
    "            if bond_check(bond_length_12) is True:\n",
    "                print(F'{symbols[num1]} to {symbols[num2]}: {bond_length_12:.3f}')"
   ]
  },
  {
   "cell_type": "code",
   "execution_count": null,
   "metadata": {},
   "outputs": [],
   "source": []
  }
 ],
 "metadata": {
  "kernelspec": {
   "display_name": "Python 3",
   "language": "python",
   "name": "python3"
  },
  "language_info": {
   "codemirror_mode": {
    "name": "ipython",
    "version": 3
   },
   "file_extension": ".py",
   "mimetype": "text/x-python",
   "name": "python",
   "nbconvert_exporter": "python",
   "pygments_lexer": "ipython3",
   "version": "3.7.3"
  }
 },
 "nbformat": 4,
 "nbformat_minor": 2
}
